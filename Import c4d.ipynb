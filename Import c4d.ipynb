{
 "cells": [
  {
   "cell_type": "markdown",
   "metadata": {},
   "source": [
    "# Import c4d\n",
    "\n",
    "Hi! I am\n",
    "\n",
    "# Francisc Jerhone Camillo (FJ)\n",
    "\n",
    "a computer engineering student from PUP-Sta. Mesa, Manila\n"
   ]
  },
  {
   "cell_type": "markdown",
   "metadata": {},
   "source": [
    "# Show and Tell\n",
    "\n",
    "- What is it about?\n",
    "- What do I have now?\n",
    "- What I want to create?"
   ]
  },
  {
   "cell_type": "markdown",
   "metadata": {},
   "source": [
    "# Brief Introduction in c4d\n",
    "![c4d](cinema-4d-14.jpg)\n",
    "\n",
    "- Cinema 4D is a 3D Modelling, Animation, Rendering platform\n",
    "- Uses Python, C.O.F.F.E.E*. For fast production, asset utilization and plugin creation\n",
    "\n",
    "Using the c4d module we can interact with the various elements, primitives, objects inside cinema 4D\n",
    "\n",
    "*https://en.wikipedia.org/wiki/COFFEE_%28Cinema_4D%29"
   ]
  },
  {
   "cell_type": "markdown",
   "metadata": {},
   "source": [
    "# What is it about?\n",
    "\n",
    "- Using c4d package we can work with different assets inside cinema 4D\n",
    "- Target: Experiment with the different objects using the package"
   ]
  },
  {
   "cell_type": "markdown",
   "metadata": {},
   "source": [
    "![c4de](maxresdefault.jpg)"
   ]
  },
  {
   "cell_type": "markdown",
   "metadata": {},
   "source": [
    "# What do I have now?\n",
    "\n",
    "- Basic knowledge on utilizing python inside cinema 4D\n",
    "- Working with some objects\n",
    "- Animation using c4d"
   ]
  },
  {
   "cell_type": "markdown",
   "metadata": {},
   "source": [
    "# Hello World"
   ]
  },
  {
   "cell_type": "code",
   "execution_count": null,
   "metadata": {
    "collapsed": true
   },
   "outputs": [],
   "source": [
    "#Hello World\n",
    "import c4d\n",
    "from c4d import gui\n",
    "#Welcome to the world of Python\n",
    "\n",
    "\n",
    "def main():\n",
    "    #\n",
    "    gui.MessageDialog('Hello World!')\n",
    "\n",
    "if __name__=='__main__':\n",
    "    main()"
   ]
  },
  {
   "cell_type": "markdown",
   "metadata": {},
   "source": [
    "# Parts"
   ]
  },
  {
   "cell_type": "code",
   "execution_count": null,
   "metadata": {
    "collapsed": true
   },
   "outputs": [],
   "source": [
    "import c4d\n",
    "\n",
    "#Create an Object\n",
    "#1019268 refers to the MoText Object\n",
    "createObject = c4d.BaseObject(1019268)\n",
    "\n",
    "#Add Properties\n",
    "createObject[c4d.PRIM_TEXT_TEXT] = \"This is a text\"\n",
    "\n",
    "#Insert Object to the environment\n",
    "doc.InsertObject(createObject)\n",
    "c4d.EventAdd()"
   ]
  },
  {
   "cell_type": "markdown",
   "metadata": {},
   "source": [
    "# Lists and MoText Generation"
   ]
  },
  {
   "cell_type": "code",
   "execution_count": null,
   "metadata": {
    "collapsed": true
   },
   "outputs": [],
   "source": [
    "import c4d\n",
    "from c4d import gui\n",
    "textData = ['text1', 'text2', 'text3', 'text4',\n",
    "            'text4', 'text5','text6', 'text7']\n",
    "createText = []\n",
    "y = 0\n",
    "createText = [c4d.BaseObject(1019268),c4d.BaseObject(1019268),c4d.BaseObject(1019268),\n",
    "              c4d.BaseObject(1019268),c4d.BaseObject(1019268),c4d.BaseObject(1019268),\n",
    "              c4d.BaseObject(1019268)]\n",
    "for text in range(0, len(textData)-1, 1):\n",
    "    createText[text][c4d.MGTEXTOBJECT_SPLINEMOVE]=int(100)\n",
    "    createText[text][c4d.PRIM_TEXT_TEXT] = str(textData[text])\n",
    "    createText[text][c4d.ID_BASEOBJECT_REL_POSITION, c4d.VECTOR_Y] = int(y)\n",
    "    y += int(500)\n",
    "    doc.InsertObject(createText[text])\n",
    "    c4d.EventAdd()\n",
    "    print text"
   ]
  },
  {
   "cell_type": "markdown",
   "metadata": {},
   "source": [
    "# Sample"
   ]
  },
  {
   "cell_type": "code",
   "execution_count": 1,
   "metadata": {
    "collapsed": false
   },
   "outputs": [
    {
     "ename": "ImportError",
     "evalue": "No module named c4d",
     "output_type": "error",
     "traceback": [
      "\u001b[1;31m---------------------------------------------------------------------------\u001b[0m",
      "\u001b[1;31mImportError\u001b[0m                               Traceback (most recent call last)",
      "\u001b[1;32m<ipython-input-1-3dc9c450b00e>\u001b[0m in \u001b[0;36m<module>\u001b[1;34m()\u001b[0m\n\u001b[1;32m----> 1\u001b[1;33m \u001b[1;32mimport\u001b[0m \u001b[0mc4d\u001b[0m\u001b[1;33m\u001b[0m\u001b[0m\n\u001b[0m",
      "\u001b[1;31mImportError\u001b[0m: No module named c4d"
     ]
    }
   ],
   "source": [
    "import c4d\n",
    "from c4d import gui\n",
    "import urllib2\n",
    "import json\n",
    "#Welcome to the world of Python\n",
    "\n",
    "\n",
    "urlData = \"http://earthquake.usgs.gov/earthquakes/feed/v1.0/summary/2.5_day.geojson\"\n",
    "MoTextIntroduction = c4d.BaseObject(1019268)\n",
    "MoTextNumberOfEvents = c4d.BaseObject(1019268)\n",
    "MoText = c4d.BaseObject(1019268)\n",
    "webUrl = urllib2.urlopen(urlData)\n",
    "print webUrl.getcode()\n",
    "\n",
    " \n",
    "    \n",
    "def printResults(data):\n",
    "    theJSON = json.loads(data)\n",
    "    if \"title\" in theJSON[\"metadata\"]:\n",
    "        displayedText =  theJSON[\"metadata\"][\"title\"]\n",
    "        yPosition = 0\n",
    "        MoTextIntroduction[c4d.MGTEXTOBJECT_SPLINEMOVE] = 100\n",
    "        MoTextIntroduction[c4d.PRIM_TEXT_TEXT] = str(displayedText)\n",
    "        MoTextIntroduction[c4d.PRIM_TEXT_ALIGN] = 1\n",
    "        MoTextIntroduction[c4d.CAP_START] = 3\n",
    "        MoTextIntroduction[c4d.CAP_END] = 3\n",
    "        MoTextIntroduction[c4d.CAP_STARTSTEPS] = 2\n",
    "        MoTextIntroduction[c4d.CAP_STARTRADIUS] = 3\n",
    "        MoTextIntroduction[c4d.CAP_ENDSTEPS] = 2\n",
    "        MoTextIntroduction[c4d.CAP_ENDRADIUS] = 3\n",
    "        MoTextIntroduction[c4d.ID_BASEOBJECT_REL_POSITION,c4d.VECTOR_Y] = int(yPosition)\n",
    "    count = theJSON[\"metadata\"][\"count\"]\n",
    "    displayedText =  str(count) + \" events recorded\"\n",
    "    MoTextNumberOfEvents[c4d.MGTEXTOBJECT_SPLINEMOVE] = 100\n",
    "    MoTextNumberOfEvents[c4d.PRIM_TEXT_TEXT] = str(displayedText)\n",
    "    MoTextNumberOfEvents[c4d.PRIM_TEXT_ALIGN] = 1\n",
    "    MoTextNumberOfEvents[c4d.CAP_START] = 3\n",
    "    MoTextNumberOfEvents[c4d.CAP_END] = 3\n",
    "    MoTextNumberOfEvents[c4d.CAP_STARTSTEPS] = 2\n",
    "    MoTextNumberOfEvents[c4d.CAP_STARTRADIUS] = 3\n",
    "    MoTextNumberOfEvents[c4d.CAP_ENDSTEPS] = 2\n",
    "    MoTextNumberOfEvents[c4d.CAP_ENDRADIUS] = 3\n",
    "    MoTextNumberOfEvents[c4d.ID_BASEOBJECT_REL_POSITION,c4d.VECTOR_Y] = int(yPosition)\n",
    "    yPosition += 500\n",
    "    \n",
    "\n",
    "    for i in theJSON[\"features\"]:\n",
    "        displayedText = i[\"properties\"][\"place\"]\n",
    "        textToDisplay = \"The Text to be displayed is more than the limit\"\n",
    "        if displayedText > 35:\n",
    "            displayedText = 35\n",
    "            MoText[c4d.MGTEXTOBJECT_SPLINEMOVE] = int(100)\n",
    "            MoText[c4d.PRIM_TEXT_TEXT] = str(displayedText)\n",
    "            MoText[c4d.PRIM_TEXT_ALIGN] = 1\n",
    "            MoText[c4d.CAP_START] = 3\n",
    "            MoText[c4d.CAP_END] = 3\n",
    "            MoText[c4d.CAP_STARTSTEPS] = 2\n",
    "            MoText[c4d.CAP_STARTRADIUS] = 3\n",
    "            MoText[c4d.CAP_ENDSTEPS] = 2\n",
    "            MoText[c4d.CAP_ENDRADIUS] = 3\n",
    "            MoText[c4d.ID_BASEOBJECT_REL_POSITION, c4d.VECTOR_Y] = int(yPosition)\n",
    "            \n",
    "        elif displayedText < 35:\n",
    "            MoText[c4d.MGTEXTOBJECT_SPLINEMOVE] = int(100)\n",
    "            MoText[c4d.PRIM_TEXT_TEXT] = str(displayedText)\n",
    "            MoText[c4d.PRIM_TEXT_ALIGN] = 1\n",
    "            MoText[c4d.CAP_START] = 3\n",
    "            MoText[c4d.CAP_END] = 3\n",
    "            MoText[c4d.CAP_STARTSTEPS] = 2\n",
    "            MoText[c4d.CAP_STARTRADIUS] = 3\n",
    "            MoText[c4d.CAP_ENDSTEPS] = 2\n",
    "            MoText[c4d.CAP_ENDRADIUS] = 3\n",
    "            MoText[c4d.ID_BASEOBJECT_REL_POSITION,c4d.VECTOR_Y] = int(yPosition)\n",
    "            \n",
    "        else:\n",
    "            pass\n",
    "        \n",
    "if webUrl.getcode()==int(200):\n",
    "    data = webUrl.read()\n",
    "    printResults(data)\n",
    "    doc.InsertObject(MoText)\n",
    "    doc.InsertObject(MoTextNumberOfEvents)\n",
    "    doc.InsertObject(MoTextIntroduction)\n",
    "    c4d.EventAdd()\n",
    "else:\n",
    "    print str(\"Something was wrong\")\n"
   ]
  },
  {
   "cell_type": "markdown",
   "metadata": {
    "collapsed": true
   },
   "source": [
    "# What I want to create?\n",
    "\n",
    "- I want to create a live-3D representation of data gathered from IOT nodes. Visualization. Also the possibilities for VR Apps"
   ]
  },
  {
   "cell_type": "markdown",
   "metadata": {},
   "source": [
    "# 3D Mapper using Arduino + Cinema 4D\n",
    "\n",
    "- Hardware senses distance\n",
    "- sends info using serial\n",
    "- plots the distance\n",
    "\n",
    "-> Still has a lot of bugs but it's working\n",
    "\n",
    "-> Hardware are very low grade and not accurate"
   ]
  },
  {
   "cell_type": "code",
   "execution_count": null,
   "metadata": {
    "collapsed": true
   },
   "outputs": [],
   "source": [
    "import c4d\n",
    "from c4d import gui\n",
    "import math\n",
    "import serial\n",
    "#Welcome to the world of Python\n",
    "\n",
    "#Note:\n",
    "#[c4d.ID_BASEOBJECT_REL_ROTATION,c4d.VECTOR_X] holds the XAngle Rotation\n",
    "#[c4d.ID_BASEOBJECT_REL_ROTATION,c4d.VECTOR_Z] holds the YAngle Rotation must be negative for correct angle\n",
    "\n",
    "nullObject = []\n",
    "nullCount = 0\n",
    "stringSentence = []\n",
    "\n",
    "#Variables for Arduino \n",
    "distance = 0\n",
    "rotationOnXAxis = 0\n",
    "rotationOnZAxis = 0\n",
    "\n",
    "arduino = serial.Serial('COM37', 115200, timeout = .1)\n",
    "def mainProcess():\n",
    "    createNullObjectFirstNull()\n",
    "    main()\n",
    "\n",
    "\n",
    "def secondProcess():\n",
    "    while rotationOnXAxis < 90 and rotationOnXAxis < 2 :\n",
    "        readArduinoSerial()\n",
    "        angleConditions()\n",
    "        createNullObjectNextNull()\n",
    "\n",
    "def debuggerThingy():\n",
    "    print arduino.readline()\n",
    "\n",
    "def readArduinoSerial():\n",
    "    stringFromArduino = str(arduino.readline())\n",
    "    stringSentence = stringFromArduino.split()\n",
    "    if \"YAngle:\" in  stringSentence:\n",
    "        stringSentence.remove('YAngle:')\n",
    "        rotationOnZAxis = int(str(stringSentence[0]))\n",
    "\n",
    "    if \"XAngle: \" in stringSentence:\n",
    "        stringSentence.remove('XAngle:')\n",
    "        rotationOnXAxis = int(str(stringSentence[0]))\n",
    "\n",
    "    if \"Distance:\" in stringSentence:\n",
    "        stringSentence.remove(\"Distance:\")\n",
    "        distance = int(str(stringSentence[0]))\n",
    "\n",
    "    else:\n",
    "        pass\n",
    "\n",
    "def angleConditions():\n",
    "    if rotationOnXAxis == 0:\n",
    "        if rotationOnZAxis > 90:\n",
    "            rotationOnZAxis = 180 - rotationOnZAxis\n",
    "            coordinateForXAngleEquals_0(distance, rotationOnZAxis)\n",
    "        else:\n",
    "            coordinateForXAngleEquals_0(distance, rotationOnZAxis)\n",
    "    elif rotationOnXAxis <= 89 and rotationOnXAxis > 0:\n",
    "        if rotationOnZAxis > 90:\n",
    "            rotationOnZAxis = 180 - rotationOnZAxis\n",
    "            coordinateForXAngleLessThanOrEquals_89(distance, rotationOnZAxis, rotationOnXAxis)\n",
    "        else:\n",
    "            coordinateForXAngleLessThanOrEquals_89(distance, rotationOnZAxis, rotationOnXAxis)\n",
    "    elif rotationOnXAxis == 90:\n",
    "        if rotationOnZAxis > 90:\n",
    "            rotationOnZAxis = 180 - rotationOnZAxis \n",
    "            coordinateForXAngleEquals_90(distance, rotationOnZAxis)\n",
    "        else:\n",
    "            coordinateForXAngleEquals_90(distance, rotationOnZAxis)\n",
    "    elif rotationOnXAxis <= 179 and rotationOnXAxis >90:\n",
    "        if rotationOnZAxisAngle > 90:\n",
    "            rotationOnZAxis = 180 - rotationOnZ\n",
    "            coordinateForXAngleLessThanOrEqual_179(distance, rotationOnZAxis, rotationOnXAxis)\n",
    "        else:\n",
    "            coordinateForXAngleLessThanOrEqual_179(distance, rotationOnZAxis, rotationOnXAxis)\n",
    "    elif rotationOnXAxis == 180:\n",
    "        if rotationOnZAxis > 90:\n",
    "            rotationOnZAxis = 180 - rotationOnZAxis\n",
    "            coordinateForAngleEquals_180(distance, rotationOnZAxis)\n",
    "        else:\n",
    "            coordinateForAngleEquals_180(distance, rotationOnZAxis)\n",
    "\n",
    "def coordinateForXAngleEquals_0(distance, rotationOnZAxis):\n",
    "    nullObject[nullCount][c4d.ID_BASEOBJECT_REL_POSITION,c4d.VECTOR_X] = (distance)*math.cos(math.radians(rotationOnZAxis))\n",
    "    nullObject[nullCount][c4d.ID_BASEOBJECT_REL_POSITION,c4d.VECTOR_Y] = (distance)*math.sin(math.radians(rotationOnZAxis))\n",
    "    nullObject[nullCount][c4d.ID_BASEOBJECT_REL_POSITION,c4d.VECTOR_Z] = 0\n",
    "\n",
    "def coordinateForXAngleLessThanOrEquals_89(distance, rotationOnZAxis, rotationOnXAxis):\n",
    "    nullObject[nullCount][c4d.ID_BASEOBJECT_REL_POSITION,c4d.VECTOR_X] = ((distance)*(math.cos(math.radians(rotationOnZAxis)))) - (((2)*(distance)*(math.cos(math.radians(rotationOnZAxis))))*(math.sin(math.radians(180-((180))))))\n",
    "    nullObject[nullCount][c4d.ID_BASEOBJECT_REL_POSITION,c4d.VECTOR_Y] = (distance)*(math.sin(math.radians(rotationOnZAxis)))\n",
    "    nullObject[nullCount][c4d.ID_BASEOBJECT_REL_POSITION,c4d.VECTOR_Z] = (distance)*(math.cos(math.radians(rotationOnZAxis)))*(math.sin(math.radians(rotationOnXAxis)))\n",
    "\n",
    "def coordinateForXAngleEquals_90(distance, rotationOnZAxis):\n",
    "    nullObject[nullCount][c4d.ID_BASEOBJECT_REL_POSITION,c4d.VECTOR_X] = 0\n",
    "    nullObject[nullCount][c4d.ID_BASEOBJECT_REL_POSITION,c4d.VECTOR_Y] = (distance)*(math.sin(math.radians(rotationOnZAxis)))\n",
    "    nullObject[nullCount][c4d.ID_BASEOBJECT_REL_POSITION,c4d.VECTOR_Z] = (distance)*(math.cos(math.radians(rotationOnZAxis)))\n",
    "\n",
    "def coordinateForXAngleLessThanOrEqual_179(distance, rotationOnZAxis, rotationOnXAxis):\n",
    "    nullObject[nullCount][c4d.ID_BASEOBJECT_REL_POSITION,c4d.VECTOR_X] = (((distance)*(math.cos(math.radians(rotationOnZAxis)))) - (((2)*(distance)*(math.cos(math.radians(rotationOnZAxis))))*(math.sin(math.radians(180-((180)))))))*(-1)\n",
    "    nullObject[nullCount][c4d.ID_BASEOBJECT_REL_POSITION,c4d.VECTOR_Y] = (distance)*(math.sin(math.radians(rotationOnZAxis)))\n",
    "    nullObject[nullCount][c4d.ID_BASEOBJECT_REL_POSITION,c4d.VECTOR_Z] = ((distance)*(math.cos(math.radians(rotationOnZAxis)))*(math.sin(math.radians(rotationOnXAxis))))*(-1)\n",
    "\n",
    "def coordinateForAngleEquals_180(distance, rotationOnZAxis):\n",
    "    nullObject[nullCount][c4d.ID_BASEOBJECT_REL_POSITION,c4d.VECTOR_X] = ((distance)*(math.cos(math.radians(rotationOnZAxis))))*(-1)\n",
    "    nullObject[nullCount][c4d.ID_BASEOBJECT_REL_POSITION,c4d.VECTOR_Y] = (distance)*(math.sin(math.radians(rotationOnZAxis)))\n",
    "    nullObject[nullCount][c4d.ID_BASEOBJECT_REL_POSITION,c4d.VECTOR_Z] = 0\n",
    "\n",
    "def createNullObjectFirstNull():\n",
    "    nullObject.append(c4d.BaseObject(5140))\n",
    "    doc.InsertObject( nullObject[nullCount] )\n",
    "\n",
    "def createNullObjectNextNull():\n",
    "    nullObject.append(c4d.BaseObject(5140))\n",
    "    nullCount = -1\n",
    "    doc.InsertObject( nullObject[nullCount] )\n",
    "\n",
    "def createDocInsertObject():\n",
    "    doc.InsertObject( nullObject[nullCount] )\n",
    "\n",
    "def addEvent():\n",
    "    c4d.EventAdd()\n",
    "\n",
    "def createPointOfOrigin():\n",
    "    nullObject.append(c4d.BaseObject(5140))\n",
    "    doc.InsertObject( nullObject[nullCount] )\n",
    "    nullCount += 1\n",
    "\n",
    "def main():\n",
    "    secondProcess()\n",
    "    addEvent()\n",
    "\n",
    "if __name__=='__main__':\n",
    "\tmainProcess()"
   ]
  }
 ],
 "metadata": {
  "kernelspec": {
   "display_name": "Python 2",
   "language": "python",
   "name": "python2"
  },
  "language_info": {
   "codemirror_mode": {
    "name": "ipython",
    "version": 2
   },
   "file_extension": ".py",
   "mimetype": "text/x-python",
   "name": "python",
   "nbconvert_exporter": "python",
   "pygments_lexer": "ipython2",
   "version": "2.7.11"
  }
 },
 "nbformat": 4,
 "nbformat_minor": 0
}
